{
 "cells": [
  {
   "cell_type": "code",
   "execution_count": 1,
   "metadata": {},
   "outputs": [],
   "source": [
    "import main"
   ]
  },
  {
   "cell_type": "code",
   "execution_count": 2,
   "metadata": {},
   "outputs": [
    {
     "name": "stdout",
     "output_type": "stream",
     "text": [
      "Query<char> query_test;\n",
      "query_test.OR_queries.push_back(Query<char>::FromString(\"test\"));\n",
      "pattern.queries.push_back(query_test);\n"
     ]
    },
    {
     "data": {
      "text/plain": [
       "(['Query<char> query_{0};',\n",
       "  'query_{0}.OR_queries.push_back(Query<char>::FromString(\"{0}\"));',\n",
       "  'pattern.queries.push_back(query_{});'],\n",
       " {'function': 'query_testing', 'args': ['test']})"
      ]
     },
     "execution_count": 2,
     "metadata": {},
     "output_type": "execute_result"
    }
   ],
   "source": [
    "main.interpret_get_macro(\"!query_testing \" + \"~test\")"
   ]
  },
  {
   "cell_type": "code",
   "execution_count": 84,
   "metadata": {},
   "outputs": [],
   "source": [
    "raw = \"\"\"//\n",
    "// Created by Nathaniel Blair on 27/9/20.\n",
    "//\n",
    "\n",
    "#include <cassert>\n",
    "\n",
    "#include \"Primal.h\"\n",
    "\n",
    "Primal::Command::Command(vector<string> tags, string command) : tags(tags), command(command) {\n",
    "// Do nothing\n",
    "}\n",
    "\n",
    "Primal::Command::Command(string type, string command) : command(command) {\n",
    "this->tags = vector<string>();\n",
    "tags.push_back(type);\n",
    "}\n",
    "\n",
    "void Primal::Child(Thread *child) {\n",
    "this->children.push_back(child);\n",
    "this->Connect(child);\n",
    "}\n",
    "\n",
    "Primal::Primal() :\n",
    "results(map<int, Prototype>()),\n",
    "resultsMutex(std::mutex()) {\n",
    "\n",
    "}\n",
    "\n",
    "void Primal::NewThread() {\n",
    "auto* thread = new Thread(this);\n",
    "\n",
    "Child(thread);\n",
    "}\n",
    "\n",
    "void Primal::End() {\n",
    "for(auto* thread: children) {\n",
    "thread->endFlag = true;\n",
    "\n",
    "assert(thread->thread.joinable()); // Checks if the thread is still operating\n",
    "thread->thread.join();\n",
    "}\n",
    "}\n",
    "\n",
    "void Primal::MergeIntoResult(Prototype *result, unsigned int index) {\n",
    "std::lock_guard<std::mutex> guard(resultsMutex); // Protects the results-vector from asynchronous competition\n",
    "\n",
    "\n",
    "if (results.find(index) != results.end())\n",
    "results[index] = *result;\n",
    "else\n",
    "results[index].merge(*result->subvalues_col);\n",
    "// Tidy up\n",
    "delete result;\n",
    "}\"\"\""
   ]
  },
  {
   "cell_type": "code",
   "execution_count": 4,
   "metadata": {},
   "outputs": [],
   "source": [
    "import re\n"
   ]
  },
  {
   "cell_type": "code",
   "execution_count": 5,
   "metadata": {},
   "outputs": [],
   "source": [
    "regex = r'\\n\\w*[\\s::]*\\w+::(\\w)+\\([\\w\\s<>,*&]*\\).*:?w*{'\n"
   ]
  },
  {
   "cell_type": "code",
   "execution_count": 6,
   "metadata": {},
   "outputs": [
    {
     "data": {
      "text/plain": [
       "['d', 'd', 'd', 'd', 'd', 't']"
      ]
     },
     "execution_count": 6,
     "metadata": {},
     "output_type": "execute_result"
    }
   ],
   "source": [
    "re.findall(regex, raw)"
   ]
  },
  {
   "cell_type": "code",
   "execution_count": 90,
   "metadata": {},
   "outputs": [
    {
     "data": {
      "text/plain": [
       "['\\n\\nPrimal::Command::Command(vector<string> tags, string command) : tags(tags), command(command) {',\n",
       " '\\n\\nPrimal::Command::Command(string type, string command) : command(command) {',\n",
       " '\\n\\nvoid Primal::Child(Thread *child) {',\n",
       " '\\n\\nvoid Primal::NewThread() {',\n",
       " '\\n\\nvoid Primal::End() {',\n",
       " '\\n\\nvoid Primal::MergeIntoResult(Prototype *result, unsigned int index) {']"
      ]
     },
     "execution_count": 90,
     "metadata": {},
     "output_type": "execute_result"
    }
   ],
   "source": [
    "# regex algorithm for unfiltered function names\n",
    "storage = []\n",
    "temp_raw = raw\n",
    "\n",
    "isFailed = False\n",
    "\n",
    "while not isFailed:\n",
    "    try:\n",
    "        f = re.search(r'\\n\\s*\\w*[\\s::]*\\w+::(\\w)+\\([\\w\\s<>,*&]*\\).*:?w*{', temp_raw)\n",
    "\n",
    "        storage.append(f.group(0))\n",
    "        temp_raw = temp_raw.replace(f.group(0), \"\")\n",
    "        \n",
    "    except:\n",
    "        isFailed = True\n",
    "        \n",
    "storage\n",
    "\n",
    "# regex for semifiltered constructor names that use : assignments (just need to chop off the last two characters)\n",
    "regex = r'\\w+\\([\\w<>&*,\\s]*\\)\\s+:'\n",
    "\n",
    "# once those constructor names that use : assignments are crossed out, you can use the following to get the remaining function names fully filtered:\n",
    "regex = r'\\w+\\([\\w<>,*&\\s]*\\)'"
   ]
  },
  {
   "cell_type": "code",
   "execution_count": 88,
   "metadata": {},
   "outputs": [],
   "source": [
    "# Regex for subclasses/substructs names (unfiltered) \n",
    "# NOTE: remember to store if it is a subclass along with it's name\n",
    "regex = r'::\\w+::'\n",
    "\n",
    "# Once subclasses / substruct results are filtered out:\n",
    "# Regex for classes / struct names (unfiltered)\n",
    "# NOTE: remember to store if it is a subclass along with it's name\n",
    "regex = r'\\s\\w+::'"
   ]
  },
  {
   "cell_type": "code",
   "execution_count": 89,
   "metadata": {},
   "outputs": [],
   "source": [
    "# Regex for header files:\n",
    "\n",
    "\n",
    "# Regex for finding substructs:\n",
    "regex = r'(struct .+[\\s.\\w<>;(),:{*&};]+?)};'\n",
    "# Regex for finding subclasses:\n",
    "regex = r'(class .+[\\s.\\w<>;(),:{*&};]+?)};'\n",
    "\n",
    "# Regex for finding classes (with the filename as class name it should be checked for after)\n",
    "regex = r'(class .+[\\s.\\w<>;(),:{*&};]+)};'\n",
    "# Regex for finding structs (with the filename as struct name it should be checked for after)\n",
    "regex = r'(struct .+[\\s.\\w<>;(),:{*&};]+)};'"
   ]
  },
  {
   "cell_type": "code",
   "execution_count": null,
   "metadata": {},
   "outputs": [],
   "source": [
    "# 0. Create a function called hashmemory, that stores each value given to it into a dict, with a hash and a value as a value and the name as the key, and in a second dict with the hash as key it returns the hash\n",
    "\n",
    "# 1. If it is a subclass/substruct, replace the class/struct definition with the returned hash; Store every class/struct via hashmemory \n",
    "# NOTE: remember to store a reference to the parent class/struct string and whether it is a child struct or not\n",
    "\n",
    "# 2. For each class/struct in custom_data_structures:\n",
    "\n",
    "    # 1. Get the string representing a particular struct or class\n",
    "\n",
    "    # 3. Find all of a certain function within a particular struct or class, with:\n",
    "    regex = r'(TypeFunctionNameHere\\(.*\\);)'\n",
    "    \n",
    "    # 4. Replace with filtered function names from .cpp files and add a semicolon at the end\n",
    "    \n",
    "    # 5. Store the resulting class/struct definition in a dictionary (called 'results') with the name as key\n",
    "    \n",
    "# 3. Replace the hashmemory stored sclass/struct declaration (AKA hash) in the parent class/struct with matching (via hashmemory's two dicts) the built string from 'results'\n",
    "\n",
    "# 4. Replace all the nonsub classes/struct's definitions in the .h file string with the definitions stored by hashmemory in the two dicts\n"
   ]
  }
 ],
 "metadata": {
  "kernelspec": {
   "display_name": "Python 3",
   "language": "python",
   "name": "python3"
  },
  "language_info": {
   "codemirror_mode": {
    "name": "ipython",
    "version": 3
   },
   "file_extension": ".py",
   "mimetype": "text/x-python",
   "name": "python",
   "nbconvert_exporter": "python",
   "pygments_lexer": "ipython3",
   "version": "3.7.0"
  }
 },
 "nbformat": 4,
 "nbformat_minor": 4
}
